{
  "nbformat": 4,
  "nbformat_minor": 0,
  "metadata": {
    "colab": {
      "provenance": [],
      "authorship_tag": "ABX9TyNdHKWP9zj9SVijROLRc+aE"
    },
    "kernelspec": {
      "name": "python3",
      "display_name": "Python 3"
    },
    "language_info": {
      "name": "python"
    }
  },
  "cells": [
    {
      "cell_type": "markdown",
      "source": [
        "Q1. What is Abstraction in OOps? Explain with an example."
      ],
      "metadata": {
        "id": "OYOgKvIvzxcl"
      }
    },
    {
      "cell_type": "markdown",
      "source": [
        "Ans:-Abstraction in Object-Oriented Programming (OOP) is the process of hiding the internal implementation details of an object and exposing only the necessary features. It helps in simplifying complex systems by showing only the essential information to the user, while the internal complexities are hidden.\n"
      ],
      "metadata": {
        "id": "aomJoWnhz7le"
      }
    },
    {
      "cell_type": "code",
      "source": [
        "from abc import ABC, abstractmethod\n",
        "\n",
        "class Vehicle(ABC):\n",
        "    @abstractmethod\n",
        "    def start_engine(self):\n",
        "        pass\n",
        "\n",
        "class Car(Vehicle):\n",
        "    def start_engine(self):\n",
        "        print(\"Car engine started\")\n",
        "\n",
        "class Bike(Vehicle):\n",
        "    def start_engine(self):\n",
        "        print(\"Bike engine started\")"
      ],
      "metadata": {
        "id": "BlrD9Hti0nxx"
      },
      "execution_count": 135,
      "outputs": []
    },
    {
      "cell_type": "code",
      "source": [
        "my_car = Car()\n",
        "my_car.start_engine()\n"
      ],
      "metadata": {
        "colab": {
          "base_uri": "https://localhost:8080/"
        },
        "id": "9EsfTUJ50sCw",
        "outputId": "a4023b88-f6d4-4393-9c29-6ea03395f46f"
      },
      "execution_count": 136,
      "outputs": [
        {
          "output_type": "stream",
          "name": "stdout",
          "text": [
            "Car engine started\n"
          ]
        }
      ]
    },
    {
      "cell_type": "code",
      "source": [
        "my_bike = Bike()\n",
        "my_bike.start_engine()"
      ],
      "metadata": {
        "colab": {
          "base_uri": "https://localhost:8080/"
        },
        "id": "pMZf_Juy017c",
        "outputId": "02b6ba86-9a09-4f8d-b344-cbd924c889be"
      },
      "execution_count": 137,
      "outputs": [
        {
          "output_type": "stream",
          "name": "stdout",
          "text": [
            "Bike engine started\n"
          ]
        }
      ]
    },
    {
      "cell_type": "markdown",
      "source": [
        "Q2. Differentiate between Abstraction and Encapsulation. Explain with an example.\n"
      ],
      "metadata": {
        "id": "yqQesLsv1KGF"
      }
    },
    {
      "cell_type": "markdown",
      "source": [
        "Ans:- Abstraction focuses on hiding the internal details and showing only the relevant information.\n",
        "\n",
        "Encapsulation is the concept of bundling data (attributes) and methods (functions) together within a class and restricting access to them to protect the integrity of the object.\n",
        "\n"
      ],
      "metadata": {
        "id": "DMSTC3mH2-UP"
      }
    },
    {
      "cell_type": "code",
      "source": [
        "class BankAccount:\n",
        "    def __init__(self, balance):\n",
        "        self.__balance = balance\n",
        "\n",
        "    def deposit(self, amount):\n",
        "        self.__balance += amount\n",
        "\n",
        "    def withdraw(self, amount):\n",
        "        if self.__balance >= amount:\n",
        "            self.__balance -= amount\n",
        "        else:\n",
        "            print(\"Insufficient balance\")\n",
        "\n",
        "    def get_balance(self):\n",
        "        return self.__balance"
      ],
      "metadata": {
        "id": "GgGJ6r1e29z6"
      },
      "execution_count": 139,
      "outputs": []
    },
    {
      "cell_type": "code",
      "source": [
        "account = BankAccount(1000)\n",
        "account.deposit(500)\n",
        "print(account.get_balance())"
      ],
      "metadata": {
        "colab": {
          "base_uri": "https://localhost:8080/"
        },
        "id": "T9r2uWRh1Ar-",
        "outputId": "625e4178-e718-40ac-985d-90f4bfd1d16d"
      },
      "execution_count": 140,
      "outputs": [
        {
          "output_type": "stream",
          "name": "stdout",
          "text": [
            "1500\n"
          ]
        }
      ]
    },
    {
      "cell_type": "code",
      "source": [
        "account.__balance = 5000\n",
        "\n",
        "print(account.get_balance())"
      ],
      "metadata": {
        "colab": {
          "base_uri": "https://localhost:8080/"
        },
        "id": "hJGw1_vE4F54",
        "outputId": "84dd996a-4980-477b-a9f4-2e7283e5b1fc"
      },
      "execution_count": 141,
      "outputs": [
        {
          "output_type": "stream",
          "name": "stdout",
          "text": [
            "1500\n"
          ]
        }
      ]
    },
    {
      "cell_type": "markdown",
      "source": [
        "**Q3. What is the abc module in Python? Why is it used?**\n",
        "\n",
        "Ans : The abc module in Python stands for Abstract Base Classes. It provides the tools to define abstract base classes, which help in creating a blueprint for other classes. The abc module is used to enforce that certain methods must be implemented in subclasses, providing a form of abstraction.\n",
        "\n",
        "Abstract methods defined in an abstract class must be implemented in derived classes.\n",
        "The ABC class from the abc module is used to define an abstract base class, and @abstractmethod is used to define abstract methods."
      ],
      "metadata": {
        "id": "JOyFsC2p4dWm"
      }
    },
    {
      "cell_type": "code",
      "source": [
        "from abc import ABC, abstractmethod\n",
        "\n",
        "class Shape(ABC):\n",
        "    @abstractmethod\n",
        "    def area(self):\n",
        "        pass\n",
        "\n",
        "class Circle(Shape):\n",
        "    def __init__(self, radius):\n",
        "        self.radius = radius\n",
        "\n",
        "    def area(self):\n",
        "        return 3.14 * self.radius * self.radius\n",
        "\n",
        "circle = Circle(5)\n",
        "print(circle.area())"
      ],
      "metadata": {
        "colab": {
          "base_uri": "https://localhost:8080/"
        },
        "id": "P_k-Ml0k4YTe",
        "outputId": "a650a307-add1-4a33-c96e-e0429405d46f"
      },
      "execution_count": 142,
      "outputs": [
        {
          "output_type": "stream",
          "name": "stdout",
          "text": [
            "78.5\n"
          ]
        }
      ]
    },
    {
      "cell_type": "markdown",
      "source": [
        "**Q4. How can we achieve data abstraction?**\n",
        "\n",
        "Ans:- We can achieve data abstraction in Python through the use of abstract classes and interfaces. Abstract classes allow us to define methods that must be implemented by any concrete class that inherits from them. This hides the implementation details from the user, who only interacts with the abstract method interface.\n",
        "\n",
        "Steps to achieve data abstraction:\n",
        "\n",
        "1. Define an abstract base class using the ABC class from the abc module.\n",
        "2. Declare abstract methods using the @abstractmethod decorator.\n",
        "3. Ensure that concrete subclasses provide the implementation of these abstract methods."
      ],
      "metadata": {
        "id": "DKXr6LiC5Nqz"
      }
    },
    {
      "cell_type": "code",
      "source": [
        "from abc import ABC, abstractmethod\n",
        "\n",
        "class Animal(ABC):\n",
        "    @abstractmethod\n",
        "    def sound(self):\n",
        "        pass\n",
        "\n",
        "class Dog(Animal):\n",
        "    def sound(self):\n",
        "        print(\"Bark\")\n",
        "\n",
        "class Cat(Animal):\n",
        "    def sound(self):\n",
        "        print(\"Meow\")"
      ],
      "metadata": {
        "id": "fTsnOMEm4p68"
      },
      "execution_count": 143,
      "outputs": []
    },
    {
      "cell_type": "code",
      "source": [
        "dog = Dog()\n",
        "dog.sound()\n",
        "\n",
        "cat = Cat()\n",
        "cat.sound()"
      ],
      "metadata": {
        "colab": {
          "base_uri": "https://localhost:8080/"
        },
        "id": "yuTnsrLs5zHA",
        "outputId": "cf42127a-551e-4121-bd34-b7645d11dbc4"
      },
      "execution_count": 144,
      "outputs": [
        {
          "output_type": "stream",
          "name": "stdout",
          "text": [
            "Bark\n",
            "Meow\n"
          ]
        }
      ]
    },
    {
      "cell_type": "markdown",
      "source": [
        "**Q5. Can we create an instance of an abstract class?** Explain your answer.\n",
        "\n",
        "Ans:-No, we cannot create an instance of an abstract class. An abstract class is incomplete by design and serves as a blueprint for other concrete classes. The purpose of an abstract class is to define a set of methods that must be implemented by subclasses, but since it doesn’t provide full functionality, it cannot be instantiated on its own."
      ],
      "metadata": {
        "id": "gLE-YLD-6kv2"
      }
    },
    {
      "cell_type": "code",
      "source": [
        "from abc import ABC, abstractmethod\n",
        "\n",
        "class Vehicle(ABC):\n",
        "    @abstractmethod\n",
        "    def start_engine(self):\n",
        "        pass"
      ],
      "metadata": {
        "id": "23pLumrH5016"
      },
      "execution_count": 145,
      "outputs": []
    },
    {
      "cell_type": "code",
      "source": [],
      "metadata": {
        "id": "RAY7ibMV6zre"
      },
      "execution_count": null,
      "outputs": []
    }
  ]
}