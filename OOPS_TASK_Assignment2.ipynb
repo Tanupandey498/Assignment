{
  "nbformat": 4,
  "nbformat_minor": 0,
  "metadata": {
    "colab": {
      "provenance": [],
      "authorship_tag": "ABX9TyPkEFFuwFtTIlaX5ll/8lPq"
    },
    "kernelspec": {
      "name": "python3",
      "display_name": "Python 3"
    },
    "language_info": {
      "name": "python"
    }
  },
  "cells": [
    {
      "cell_type": "markdown",
      "source": [
        "**Q1. Explain Class and Object with respect to Object-Oriented Programming. Give a suitable example.**\n",
        "\n",
        "Ans : -In Object-Oriented Programming (OOP), a Class is a blueprint or template for creating objects. It defines the properties (attributes) and behaviors (methods) that the objects created from the class will have.\n",
        "\n",
        "An Object is an instance of a class. It represents a specific entity with data (attributes) and functions (methods) as defined in the class."
      ],
      "metadata": {
        "id": "8kv2Yo-Ot3A6"
      }
    },
    {
      "cell_type": "code",
      "source": [
        "class Car:\n",
        "    def __init__(self, brand, model):\n",
        "        self.brand = brand\n",
        "        self.model = model\n",
        "\n",
        "    def show_details(self):\n",
        "        print(f\"Car: {self.brand} {self.model}\")\n"
      ],
      "metadata": {
        "id": "MSjONr_Vt2sM"
      },
      "execution_count": 114,
      "outputs": []
    },
    {
      "cell_type": "code",
      "source": [
        "my_car = Car(\"Toyota\", \"Corolla\")"
      ],
      "metadata": {
        "id": "cH6lmTEqvCBD"
      },
      "execution_count": 115,
      "outputs": []
    },
    {
      "cell_type": "code",
      "source": [
        "my_car.show_details()"
      ],
      "metadata": {
        "colab": {
          "base_uri": "https://localhost:8080/"
        },
        "id": "L1aaKRwbvDJU",
        "outputId": "b62877f9-0e1a-4a25-cd35-58b5092123a3"
      },
      "execution_count": 116,
      "outputs": [
        {
          "output_type": "stream",
          "name": "stdout",
          "text": [
            "Car: Toyota Corolla\n"
          ]
        }
      ]
    },
    {
      "cell_type": "markdown",
      "source": [
        "Q2. Name the four pillars of OOPs."
      ],
      "metadata": {
        "id": "fPx4SQkwvMMG"
      }
    },
    {
      "cell_type": "markdown",
      "source": [
        "Ans:- The four pillars of Object-Oriented Programming are:\n",
        "\n",
        "\n",
        "**Encapsulation:** Bundling the data (attributes) and methods (functions) that operate on the data within a single unit (class), and restricting access to some of the object's components.\n",
        "\n",
        "**Abstraction:** Hiding complex implementation details and showing only the essential features of the object.\n",
        "\n",
        "**Inheritance:** A mechanism to create new classes using existing classes, allowing the new class (child) to inherit attributes and methods of the parent class.\n",
        "\n",
        "**Polymorphism:** The ability to take many forms, allowing methods to be used in different ways depending on the object type."
      ],
      "metadata": {
        "id": "zqxQOWT1vNjW"
      }
    },
    {
      "cell_type": "markdown",
      "source": [
        "**Q3. Explain why the __init__() function is used. Give a suitable example.**\n",
        "\n",
        "Ans :- The __init__() function in Python is a constructor used to initialize the attributes of an object when it is created. It is automatically called when a new object is instantiated."
      ],
      "metadata": {
        "id": "1qdsk6dfvz8a"
      }
    },
    {
      "cell_type": "code",
      "source": [
        "class Person:\n",
        "    def __init__(self, name, age):\n",
        "        self.name = name\n",
        "        self.age = age\n",
        "\n",
        "    def greet(self):\n",
        "        print(f\"Hello, my name is {self.name} and I am {self.age} years old.\")"
      ],
      "metadata": {
        "id": "KfMA0jkdvHyb"
      },
      "execution_count": 117,
      "outputs": []
    },
    {
      "cell_type": "code",
      "source": [
        "person1 = Person(\"Alice\", 30)"
      ],
      "metadata": {
        "id": "yOzP_-3rwOHh"
      },
      "execution_count": 118,
      "outputs": []
    },
    {
      "cell_type": "code",
      "source": [
        "person1.greet()"
      ],
      "metadata": {
        "colab": {
          "base_uri": "https://localhost:8080/"
        },
        "id": "f6Vs2oLKwSS_",
        "outputId": "d3c80808-a01e-4f34-8a98-e4d67a89bfd8"
      },
      "execution_count": 119,
      "outputs": [
        {
          "output_type": "stream",
          "name": "stdout",
          "text": [
            "Hello, my name is Alice and I am 30 years old.\n"
          ]
        }
      ]
    },
    {
      "cell_type": "markdown",
      "source": [
        "**Q4. Why is self used in OOPs?**\n",
        "\n",
        "The self keyword represents the instance of the class and is used to access the attributes and methods of the class in Python. It allows each object to maintain its own state by storing attribute values. self must be the first parameter in any method inside the class so that the method can refer to the object that called it.\n",
        "\n",
        "Without self, it would be difficult for the methods to differentiate between instance variables and local variables."
      ],
      "metadata": {
        "id": "sGv1D6wywlTv"
      }
    },
    {
      "cell_type": "code",
      "source": [
        "class Dog:\n",
        "    def __init__(self, name):\n",
        "        self.name = name\n",
        "\n",
        "    def bark(self):\n",
        "        print(f\"{self.name} is barking!\")"
      ],
      "metadata": {
        "id": "lN8wqv8XwUnc"
      },
      "execution_count": 121,
      "outputs": []
    },
    {
      "cell_type": "code",
      "source": [
        "dog1 = Dog(\"Buddy\")"
      ],
      "metadata": {
        "id": "BeohnS-Aw5Dd"
      },
      "execution_count": 122,
      "outputs": []
    },
    {
      "cell_type": "code",
      "source": [
        "dog1.bark()"
      ],
      "metadata": {
        "colab": {
          "base_uri": "https://localhost:8080/"
        },
        "id": "ext_9feWw8Zd",
        "outputId": "3a5bcd71-2b2d-42d8-92b5-f037c8e0f1bc"
      },
      "execution_count": 123,
      "outputs": [
        {
          "output_type": "stream",
          "name": "stdout",
          "text": [
            "Buddy is barking!\n"
          ]
        }
      ]
    },
    {
      "cell_type": "markdown",
      "source": [
        "Q5. What is inheritance? Give an example for each type of inheritance."
      ],
      "metadata": {
        "id": "jWpsxFgvxMtt"
      }
    },
    {
      "cell_type": "code",
      "source": [
        "#Single Inheritance: A child class inherits from one parent class.\n",
        "class Animal:\n",
        "    def sound(self):\n",
        "        print(\"Animal sound\")\n",
        "\n",
        "class Dog(Animal):\n",
        "    def bark(self):\n",
        "        print(\"Dog barks\")\n"
      ],
      "metadata": {
        "id": "NFab4z0LxN0F"
      },
      "execution_count": 124,
      "outputs": []
    },
    {
      "cell_type": "code",
      "source": [
        "dog = Dog()\n",
        "dog.sound()\n",
        "dog.bark()"
      ],
      "metadata": {
        "colab": {
          "base_uri": "https://localhost:8080/"
        },
        "id": "VTStd2n1xBJg",
        "outputId": "d60c59da-c786-4069-cf73-027b3ab70b96"
      },
      "execution_count": 125,
      "outputs": [
        {
          "output_type": "stream",
          "name": "stdout",
          "text": [
            "Animal sound\n",
            "Dog barks\n"
          ]
        }
      ]
    },
    {
      "cell_type": "code",
      "source": [
        "#Multiple Inheritance: A child class inherits from more than one parent class.\n",
        "class Engine:\n",
        "    def start_engine(self):\n",
        "        print(\"Engine started\")\n",
        "\n",
        "class Wheels:\n",
        "    def rotate_wheels(self):\n",
        "        print(\"Wheels are rotating\")\n",
        "\n",
        "class Car(Engine, Wheels):\n",
        "    pass"
      ],
      "metadata": {
        "id": "6N0EzxUkxipf"
      },
      "execution_count": 126,
      "outputs": []
    },
    {
      "cell_type": "code",
      "source": [
        "my_car = Car()\n",
        "my_car.start_engine()\n",
        "my_car.rotate_wheels()"
      ],
      "metadata": {
        "colab": {
          "base_uri": "https://localhost:8080/"
        },
        "id": "2R1LuCW_xziZ",
        "outputId": "85284a3c-e301-47bb-ec60-19c00f13dcd1"
      },
      "execution_count": 127,
      "outputs": [
        {
          "output_type": "stream",
          "name": "stdout",
          "text": [
            "Engine started\n",
            "Wheels are rotating\n"
          ]
        }
      ]
    },
    {
      "cell_type": "code",
      "source": [
        "#Multilevel Inheritance: A class is derived from a class that is already derived from another class\n",
        "class Animal:\n",
        "    def sound(self):\n",
        "        print(\"Animal sound\")\n",
        "\n",
        "class Mammal(Animal):\n",
        "    def feed_milk(self):\n",
        "        print(\"Feeds milk\")\n",
        "\n",
        "class Dog(Mammal):\n",
        "    def bark(self):\n",
        "        print(\"Dog barks\")"
      ],
      "metadata": {
        "id": "k-ozuU4Qx2lF"
      },
      "execution_count": 128,
      "outputs": []
    },
    {
      "cell_type": "code",
      "source": [
        "dog = Dog()\n",
        "dog.sound()\n",
        "dog.feed_milk()\n",
        "dog.bark()"
      ],
      "metadata": {
        "colab": {
          "base_uri": "https://localhost:8080/"
        },
        "id": "pBoh7uQDyF2d",
        "outputId": "55461d82-2c02-484e-80a4-c3d30b011bf5"
      },
      "execution_count": 129,
      "outputs": [
        {
          "output_type": "stream",
          "name": "stdout",
          "text": [
            "Animal sound\n",
            "Feeds milk\n",
            "Dog barks\n"
          ]
        }
      ]
    },
    {
      "cell_type": "code",
      "source": [
        "#Hierarchical Inheritance: Multiple child classes inherit from a single parent class.\n",
        "class Animal:\n",
        "    def sound(self):\n",
        "        print(\"Animal sound\")\n",
        "\n",
        "class Dog(Animal):\n",
        "    def bark(self):\n",
        "        print(\"Dog barks\")\n",
        "\n",
        "class Cat(Animal):\n",
        "    def meow(self):\n",
        "        print(\"Cat meows\")"
      ],
      "metadata": {
        "id": "eBp8JFK3yLzg"
      },
      "execution_count": 130,
      "outputs": []
    },
    {
      "cell_type": "code",
      "source": [
        "dog = Dog()\n",
        "dog.sound()\n",
        "dog.bark()"
      ],
      "metadata": {
        "colab": {
          "base_uri": "https://localhost:8080/"
        },
        "id": "B0tL_3Veyez2",
        "outputId": "72e6f9ef-1a91-490b-f2c1-e358dc322648"
      },
      "execution_count": 131,
      "outputs": [
        {
          "output_type": "stream",
          "name": "stdout",
          "text": [
            "Animal sound\n",
            "Dog barks\n"
          ]
        }
      ]
    },
    {
      "cell_type": "code",
      "source": [
        "cat = Cat()\n",
        "cat.sound()\n",
        "cat.meow()"
      ],
      "metadata": {
        "colab": {
          "base_uri": "https://localhost:8080/"
        },
        "id": "prhUPcPiyjBd",
        "outputId": "44a935c0-d566-49da-ea71-00f7405bb217"
      },
      "execution_count": 132,
      "outputs": [
        {
          "output_type": "stream",
          "name": "stdout",
          "text": [
            "Animal sound\n",
            "Cat meows\n"
          ]
        }
      ]
    },
    {
      "cell_type": "code",
      "source": [
        "#Hybrid Inheritance: A combination of two or more types of inheritance.\n",
        "class Animal:\n",
        "    def sound(self):\n",
        "        print(\"Animal sound\")\n",
        "\n",
        "class Mammal(Animal):\n",
        "    def feed_milk(self):\n",
        "        print(\"Feeds milk\")\n",
        "\n",
        "class Bird(Animal):\n",
        "    def fly(self):\n",
        "        print(\"Bird flies\")\n",
        "\n",
        "class Bat(Mammal, Bird):\n",
        "    pass"
      ],
      "metadata": {
        "id": "1rNC4fDRyk95"
      },
      "execution_count": 133,
      "outputs": []
    },
    {
      "cell_type": "code",
      "source": [
        "bat = Bat()\n",
        "bat.sound()\n",
        "bat.feed_milk()\n",
        "bat.fly()"
      ],
      "metadata": {
        "colab": {
          "base_uri": "https://localhost:8080/"
        },
        "id": "Iw-AGx9iytOD",
        "outputId": "4e5fc379-949b-4173-9e92-9488e553f120"
      },
      "execution_count": 134,
      "outputs": [
        {
          "output_type": "stream",
          "name": "stdout",
          "text": [
            "Animal sound\n",
            "Feeds milk\n",
            "Bird flies\n"
          ]
        }
      ]
    },
    {
      "cell_type": "code",
      "source": [],
      "metadata": {
        "id": "y5Js3Vz_yw-i"
      },
      "execution_count": null,
      "outputs": []
    }
  ]
}