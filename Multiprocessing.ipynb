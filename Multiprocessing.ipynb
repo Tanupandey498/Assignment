{
  "nbformat": 4,
  "nbformat_minor": 0,
  "metadata": {
    "colab": {
      "provenance": [],
      "authorship_tag": "ABX9TyPJD4aZzAO7gOesGOMe6TPL"
    },
    "kernelspec": {
      "name": "python3",
      "display_name": "Python 3"
    },
    "language_info": {
      "name": "python"
    }
  },
  "cells": [
    {
      "cell_type": "markdown",
      "source": [
        "Q1. What is Multiprocessing in Python? Why is it Useful?\n",
        "\n",
        "Ans: Multiprocessing in Python refers to the ability to create multiple processes that can run simultaneously. Each process runs in its own memory space and can execute independently of the others. Python’s multiprocessing module allows the creation of processes, enabling parallel execution of tasks.\n",
        "\n",
        "Why is it useful?\n",
        "\n",
        "- **True Parallelism:** Unlike threads (which are constrained by Python’s Global Interpreter Lock or GIL), processes can achieve true parallelism because each process runs in its own memory space and has its own Python interpreter.\n",
        "- **Performance Boost for CPU-bound Tasks:** It is especially useful for CPU-bound tasks (e.g., mathematical computations, data processing) because multiple processes can fully utilize multiple CPU cores.\n",
        "- **Fault Isolation:** If one process crashes, it doesn’t affect the other processes. This isolation helps with fault tolerance.\n",
        "\n",
        "The multiprocessing module in Python allows easy management of multiple processes.\n",
        "\n"
      ],
      "metadata": {
        "id": "lRtKtaHF8Vv9"
      }
    },
    {
      "cell_type": "markdown",
      "source": [
        "Q2. What are the Differences Between Multiprocessing and Multithreading?"
      ],
      "metadata": {
        "id": "aCe4bsVz9AWb"
      }
    },
    {
      "cell_type": "markdown",
      "source": [
        "| **Aspect** | **Multiprocessing** | **Multiprocessing** |\n",
        "|----------|----------|----------|\n",
        "| Definition   | Involves creating multiple processes.  | Involves creating multiple threads within a process.  |\n",
        "| Memory Space   | Each process has its own memory space.   | Threads share the same memory space within a process.   |\n",
        "| Global Interpreter Lock (GIL)|Not affected by Python’s GIL, allowing true parallelism.|Affected by GIL, allowing only one thread to execute Python bytecode at a time.|\n",
        "| Use Case |Best for CPU-bound tasks (e.g., heavy computations).|Best for I/O-bound tasks (e.g., network requests, file I/O).|\n",
        "|Fault Tolerance |Crashing of one process does not affect others.|If a thread crashes, it may affect the entire process.|\n",
        "|Context Switching|Heavier (due to separate memory space)|Lighter (due to shared memory space).|\n",
        "|Communication|Requires inter-process communication (IPC) like pipes or queues.|Can communicate more easily since they share the same memory.|\n"
      ],
      "metadata": {
        "id": "8_C-y1pP9Bnh"
      }
    },
    {
      "cell_type": "markdown",
      "source": [
        "Q3. Write a Python Code to Create a Process Using the multiprocessing Module."
      ],
      "metadata": {
        "id": "ZMtaXdMEAH6F"
      }
    },
    {
      "cell_type": "code",
      "source": [
        "import multiprocessing\n",
        "\n",
        "def print_square(num):\n",
        "    print(f\"Square of {num}: {num ** 2}\")\n",
        "\n",
        "if __name__ == \"__main__\":\n",
        "    process = multiprocessing.Process(target=print_square, args=(5,))\n",
        "    process.start()  # Starts the process\n",
        "    process.join()   # Waits for the process to finish\n",
        "    print(\"Process finished.\")"
      ],
      "metadata": {
        "id": "tIa6HFhKAW8a"
      },
      "execution_count": null,
      "outputs": []
    },
    {
      "cell_type": "markdown",
      "source": [
        "Q4. What is a Multiprocessing Pool in Python? Why is it Used?"
      ],
      "metadata": {
        "id": "HPExM_NoDy28"
      }
    },
    {
      "cell_type": "markdown",
      "source": [
        "Ans:- A multiprocessing pool is a convenient way to manage a pool (group) of worker processes to perform tasks concurrently. It allows the user to parallelize the execution of a function across multiple input values using multiple processes.\n",
        "\n",
        "Why is it used?\n",
        "\n",
        "- **Efficient Task Distribution:** A pool allows distributing tasks among multiple worker processes and can handle a large number of tasks efficiently.\n",
        "\n",
        "- **Process Reuse:** Once a worker process completes its task, it can be reused for another task, reducing the overhead of creating and destroying processes.\n",
        "\n",
        "- **Load Balancing:** Pools automatically distribute tasks to available worker processes, ensuring better load balancing."
      ],
      "metadata": {
        "id": "8ef0sb34D4G_"
      }
    },
    {
      "cell_type": "markdown",
      "source": [
        "Q5. How Can We Create a Pool of Worker Processes in Python Using the Multiprocessing Module?\n",
        "\n",
        "Ans:- We can create a pool of worker processes using the Pool class from the multiprocessing module. The Pool class provides a way to manage multiple processes and distribute work among them."
      ],
      "metadata": {
        "id": "ZbaB6EKfESx1"
      }
    },
    {
      "cell_type": "code",
      "source": [
        "import multiprocessing\n",
        "\n",
        "def print_number(num):\n",
        "    print(f\"Process {multiprocessing.current_process().name} printing: {num}\")\n",
        "\n",
        "if __name__ == \"__main__\":\n",
        "    processes = []\n",
        "\n",
        "    for i in range(4):\n",
        "\n",
        "        process = multiprocessing.Process(target=print_number, args=(i+1,), name=f\"Process-{i+1}\")\n",
        "        processes.append(process)\n",
        "        process.start()\n",
        "\n",
        "    for process in processes:\n",
        "        process.join()\n",
        "\n",
        "    print(\"All processes finished.\")"
      ],
      "metadata": {
        "id": "ikhGB80pAfES",
        "outputId": "df0a0a13-5cfd-4be9-86ed-331a8ae66837",
        "colab": {
          "base_uri": "https://localhost:8080/"
        }
      },
      "execution_count": 9,
      "outputs": [
        {
          "output_type": "stream",
          "name": "stdout",
          "text": [
            "Process Process-1 printing: 1Process Process-2 printing: 2\n",
            "Process Process-3 printing: 3\n",
            "Process Process-4 printing: 4\n",
            "\n",
            "All processes finished.\n"
          ]
        }
      ]
    },
    {
      "cell_type": "code",
      "source": [],
      "metadata": {
        "id": "5tJ7DTzhEx_T"
      },
      "execution_count": null,
      "outputs": []
    }
  ]
}