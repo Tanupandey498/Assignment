{
  "nbformat": 4,
  "nbformat_minor": 0,
  "metadata": {
    "colab": {
      "provenance": [],
      "authorship_tag": "ABX9TyOfHgQSfL8FBvYjGPQkJA4z"
    },
    "kernelspec": {
      "name": "python3",
      "display_name": "Python 3"
    },
    "language_info": {
      "name": "python"
    }
  },
  "cells": [
    {
      "cell_type": "markdown",
      "source": [
        "Q1, Create a vehicle class with an init method having instance variables as name_of_vehicle, max_speed\n",
        "and average_of_vehicle."
      ],
      "metadata": {
        "id": "T-osWTTH1jN8"
      }
    },
    {
      "cell_type": "code",
      "source": [
        "class Vehicle:\n",
        "    def __init__(self, name_of_vehicle, max_speed, average_of_vehicle):\n",
        "        self.name_of_vehicle = name_of_vehicle\n",
        "        self.max_speed = max_speed\n",
        "        self.average_of_vehicle = average_of_vehicle"
      ],
      "metadata": {
        "id": "Ey4gKI3B1iS-"
      },
      "execution_count": null,
      "outputs": []
    },
    {
      "cell_type": "markdown",
      "source": [
        "Q2. Create a child class car from the vehicle class created in Que 1, which will inherit the vehicle class.\n",
        "Create a method named seating_capacity which takes capacity as an argument and returns the name of\n",
        "the vehicle and its seating capacity."
      ],
      "metadata": {
        "id": "fOKAnBLo3AYA"
      }
    },
    {
      "cell_type": "code",
      "source": [
        "class Car(Vehicle):\n",
        "    def seating_capacity(self, capacity):\n",
        "        return f\"{self.name_of_vehicle} has a seating capacity of {capacity}.\""
      ],
      "metadata": {
        "id": "lEcfyqFS3D0y"
      },
      "execution_count": null,
      "outputs": []
    },
    {
      "cell_type": "markdown",
      "source": [
        "Q3. What is multiple inheritance? Write a python code to demonstrate multiple inheritance."
      ],
      "metadata": {
        "id": "LeGj57y43prK"
      }
    },
    {
      "cell_type": "code",
      "source": [
        "class Engine:\n",
        "    def engine_type(self):\n",
        "        return \"V8 Engine\""
      ],
      "metadata": {
        "id": "gKYTFJeM3qv5"
      },
      "execution_count": null,
      "outputs": []
    },
    {
      "cell_type": "code",
      "source": [
        "class Wheels:\n",
        "    def wheel_type(self):\n",
        "        return \"Alloy Wheels\"\n"
      ],
      "metadata": {
        "id": "Pzgzyko03wnK"
      },
      "execution_count": null,
      "outputs": []
    },
    {
      "cell_type": "code",
      "source": [
        "class Car(Engine, Wheels):\n",
        "    def model(self):\n",
        "        return \"This is a Car model.\""
      ],
      "metadata": {
        "id": "NOLLvb9N42Wf"
      },
      "execution_count": null,
      "outputs": []
    },
    {
      "cell_type": "code",
      "source": [
        "my_car = Car()\n"
      ],
      "metadata": {
        "id": "mCZWWC-q41p9"
      },
      "execution_count": null,
      "outputs": []
    },
    {
      "cell_type": "code",
      "source": [
        "print(my_car.engine_type())"
      ],
      "metadata": {
        "id": "kQ6o9bJS49V0"
      },
      "execution_count": null,
      "outputs": []
    },
    {
      "cell_type": "code",
      "source": [
        "print(my_car.wheel_type())"
      ],
      "metadata": {
        "id": "RH5hp8m45AZy"
      },
      "execution_count": null,
      "outputs": []
    },
    {
      "cell_type": "code",
      "source": [
        "print(my_car.model())"
      ],
      "metadata": {
        "id": "k4jeDDDO5F4_"
      },
      "execution_count": null,
      "outputs": []
    },
    {
      "cell_type": "markdown",
      "source": [
        "Q4. What are getter and setter in python? Create a class and create a getter and a setter method in this\n",
        "class."
      ],
      "metadata": {
        "id": "ecJlx-tN5Jfd"
      }
    },
    {
      "cell_type": "code",
      "source": [
        "class Person:\n",
        "    def __init__(self, name):\n",
        "        self._name = name  # Protected attribute\n",
        "\n",
        "    # Getter method\n",
        "    def get_name(self):\n",
        "        return self._name\n",
        "\n",
        "    # Setter method\n",
        "    def set_name(self, name):\n",
        "        self._name = name\n",
        "\n",
        "\n",
        "person = Person(\"John\")\n",
        "print(person.get_name())"
      ],
      "metadata": {
        "colab": {
          "base_uri": "https://localhost:8080/"
        },
        "id": "7ZEkm_AH5M7K",
        "outputId": "c0890f3d-e641-44df-d43e-e7767616969a"
      },
      "execution_count": null,
      "outputs": [
        {
          "output_type": "stream",
          "name": "stdout",
          "text": [
            "John\n"
          ]
        }
      ]
    },
    {
      "cell_type": "markdown",
      "source": [
        "Q5.What is method overriding in python? Write a python code to demonstrate method overriding."
      ],
      "metadata": {
        "id": "MShaTSOw6CTm"
      }
    },
    {
      "cell_type": "code",
      "source": [
        "class Animal:\n",
        "    def sound(self):\n",
        "        return \"Some sound\"\n",
        "\n",
        "class Dog(Animal):\n",
        "    def sound(self):\n",
        "        return \"Bark\"\n",
        "\n",
        "\n",
        "dog = Dog()\n",
        "print(dog.sound())\n",
        "\n",
        "animal = Animal()\n",
        "print(animal.sound())"
      ],
      "metadata": {
        "id": "If3ZoJ1A6B88"
      },
      "execution_count": null,
      "outputs": []
    },
    {
      "cell_type": "code",
      "source": [],
      "metadata": {
        "id": "p6x1kXAZ5jzB"
      },
      "execution_count": null,
      "outputs": []
    }
  ]
}