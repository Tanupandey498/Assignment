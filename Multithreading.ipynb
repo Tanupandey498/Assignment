{
  "nbformat": 4,
  "nbformat_minor": 0,
  "metadata": {
    "colab": {
      "provenance": [],
      "authorship_tag": "ABX9TyNHv6FmwsdbeEeqQ6WG02D4"
    },
    "kernelspec": {
      "name": "python3",
      "display_name": "Python 3"
    },
    "language_info": {
      "name": "python"
    }
  },
  "cells": [
    {
      "cell_type": "markdown",
      "source": [
        "Q1. What is Multithreading in Python? Why is it used? Name the Module Used to Handle Threads in Python.\n",
        "\n",
        "Ans: Multithreading in Python is a technique where multiple threads (smaller units of a process) are created to execute tasks concurrently. A thread is a separate flow of execution within a program. In Python, multithreading allows multiple parts of the program to run concurrently, but due to the Global Interpreter Lock (GIL), only one thread executes Python bytecode at a time.\n",
        "\n",
        "**Why is Multithreading Used?**\n",
        "\n",
        "**Concurrency:**  It allows for executing multiple tasks simultaneously, which can improve the responsiveness of programs.\n",
        "  \n",
        "**I/O-bound Tasks:**  It is particularly useful when the program has I/O-bound tasks like file reading, network requests, or waiting for user input, as threads can execute while waiting for I/O operations to complete.\n",
        "\n",
        "**Better Resource Utilization:** It can help make better use of system resources and improve the efficiency of programs that are not CPU-bound.\n",
        "The threading module in Python is used to handle threads."
      ],
      "metadata": {
        "id": "vjtA2sN9S-t2"
      }
    },
    {
      "cell_type": "markdown",
      "source": [
        "Q2. Why threading module used? Write the use of the following functions\n",
        "\n",
        " a. activeCount()\n",
        "\n",
        " b. currentThread()\n",
        "\n",
        " c. enumerate()"
      ],
      "metadata": {
        "id": "3C1XtCbqV4OF"
      }
    },
    {
      "cell_type": "markdown",
      "source": [
        "Ans: The threading module is used to create and manage multiple threads in Python. It provides a higher-level, object-oriented approach to work with threads.\n",
        "\n",
        "Functions:\n",
        "\n",
        "1. activeCount():\n",
        "\n",
        " - Returns the number of thread objects that are currently active (i.e., running or ready to run)."
      ],
      "metadata": {
        "id": "D3hjOovwWbKZ"
      }
    },
    {
      "cell_type": "code",
      "source": [
        "import threading\n",
        "print(f\"Active threads: {threading.activeCount()}\")"
      ],
      "metadata": {
        "id": "AT1gTERuXGNE",
        "outputId": "93e2543a-0967-4611-989d-930cabe1a1a0",
        "colab": {
          "base_uri": "https://localhost:8080/"
        }
      },
      "execution_count": 21,
      "outputs": [
        {
          "output_type": "stream",
          "name": "stdout",
          "text": [
            "Active threads: 5\n"
          ]
        },
        {
          "output_type": "stream",
          "name": "stderr",
          "text": [
            "<ipython-input-21-b4088fb356a4>:2: DeprecationWarning: activeCount() is deprecated, use active_count() instead\n",
            "  print(f\"Active threads: {threading.activeCount()}\")\n"
          ]
        }
      ]
    },
    {
      "cell_type": "markdown",
      "source": [
        "2. currentThread():\n",
        "\n",
        "- Returns the current Thread object corresponding to the thread of control in the current state of execution."
      ],
      "metadata": {
        "id": "LhBfxIkhyRLT"
      }
    },
    {
      "cell_type": "code",
      "source": [
        "import threading\n",
        "print(f\"Current thread: {threading.currentThread().name}\")"
      ],
      "metadata": {
        "id": "0xth1L8sXH8_",
        "outputId": "dc9c77f8-6914-4c9c-8ff7-dccc0ca38481",
        "colab": {
          "base_uri": "https://localhost:8080/"
        }
      },
      "execution_count": 1,
      "outputs": [
        {
          "output_type": "stream",
          "name": "stdout",
          "text": [
            "Current thread: MainThread\n"
          ]
        },
        {
          "output_type": "stream",
          "name": "stderr",
          "text": [
            "<ipython-input-1-cd98d61fd815>:2: DeprecationWarning: currentThread() is deprecated, use current_thread() instead\n",
            "  print(f\"Current thread: {threading.currentThread().name}\")\n"
          ]
        }
      ]
    },
    {
      "cell_type": "markdown",
      "source": [
        "3. enumerate():\n",
        "\n",
        "- Returns a list of all currently active Thread objects."
      ],
      "metadata": {
        "id": "Mz87_Z3uymfw"
      }
    },
    {
      "cell_type": "code",
      "source": [
        "import threading\n",
        "print(f\"All active threads: {threading.enumerate()}\")"
      ],
      "metadata": {
        "id": "AO-liDHLyadE",
        "outputId": "2e9abe61-40d6-408d-d4f9-2ef1ffec7e7e",
        "colab": {
          "base_uri": "https://localhost:8080/"
        }
      },
      "execution_count": 2,
      "outputs": [
        {
          "output_type": "stream",
          "name": "stdout",
          "text": [
            "All active threads: [<_MainThread(MainThread, started 139128372363264)>, <Thread(Thread-2 (_thread_main), started daemon 139128208229952)>, <Heartbeat(Thread-3, started daemon 139128199837248)>, <ParentPollerUnix(Thread-1, started daemon 139127949358656)>, <Thread(_colab_inspector_thread, started daemon 139127479596608)>]\n"
          ]
        }
      ]
    },
    {
      "cell_type": "markdown",
      "source": [
        "Q3. Explain the Following Functions:\n",
        "\n",
        "1. run():\n",
        "\n",
        "- The run() method defines the code that a thread will execute when it is started. Typically, this is overridden when creating a subclass of Thread. If called directly, it executes in the current thread, not in a new thread.\n",
        "Example:"
      ],
      "metadata": {
        "id": "7O7pIPS8y5b8"
      }
    },
    {
      "cell_type": "code",
      "source": [
        "import threading\n",
        "\n",
        "class MyThread(threading.Thread):\n",
        "    def run(self):\n",
        "        print(\"Thread is running\")\n",
        "\n",
        "t = MyThread()\n",
        "t.run()"
      ],
      "metadata": {
        "id": "B1CycV-ayz48",
        "outputId": "5c746327-765b-4125-faa4-d5281887bf7f",
        "colab": {
          "base_uri": "https://localhost:8080/"
        }
      },
      "execution_count": 3,
      "outputs": [
        {
          "output_type": "stream",
          "name": "stdout",
          "text": [
            "Thread is running\n"
          ]
        }
      ]
    },
    {
      "cell_type": "markdown",
      "source": [
        "2. start():\n",
        "\n",
        "- The start() method is used to start the thread’s activity.\n",
        "\n",
        "- It initiates the thread by calling the run() method in a separate thread of control."
      ],
      "metadata": {
        "id": "ldFyu__6zQdx"
      }
    },
    {
      "cell_type": "code",
      "source": [
        "t.strat()"
      ],
      "metadata": {
        "id": "eg0Ox1xJzIXv"
      },
      "execution_count": null,
      "outputs": []
    },
    {
      "cell_type": "markdown",
      "source": [
        "3. join():\n",
        "\n",
        "- The join() method waits for a thread to complete. When invoked on a thread, it blocks the calling thread until the target thread has finished execution."
      ],
      "metadata": {
        "id": "xluSUIjP1So8"
      }
    },
    {
      "cell_type": "code",
      "source": [
        "t.join()"
      ],
      "metadata": {
        "id": "NnWjfI4R1LcP"
      },
      "execution_count": null,
      "outputs": []
    },
    {
      "cell_type": "markdown",
      "source": [
        "4. isAlive():\n",
        "\n",
        "- The isAlive() method checks whether a thread is still running. It returns True if the thread is still active, and False otherwise."
      ],
      "metadata": {
        "id": "ZvufxAMY15r-"
      }
    },
    {
      "cell_type": "code",
      "source": [
        "if t.isAlive():\n",
        "    print(\"Thread is still running\")\n"
      ],
      "metadata": {
        "id": "_yK-r6an2zRc"
      },
      "execution_count": null,
      "outputs": []
    },
    {
      "cell_type": "markdown",
      "source": [
        "Q4. Write a Python Program to Create Two Threads: One to Print Squares and One to Print Cubes.\n"
      ],
      "metadata": {
        "id": "XpOV4yEG30xw"
      }
    },
    {
      "cell_type": "code",
      "source": [
        "import threading\n",
        "\n",
        "def print_squares(numbers):\n",
        "    print(\"Squares:\")\n",
        "    for n in numbers:\n",
        "        print(n ** 2)\n",
        "\n",
        "def print_cubes(numbers):\n",
        "    print(\"Cubes:\")\n",
        "    for n in numbers:\n",
        "        print(n ** 3)\n",
        "\n",
        "numbers = [1, 2, 3, 4, 5]\n"
      ],
      "metadata": {
        "id": "LIpfmxXq36Yd"
      },
      "execution_count": 7,
      "outputs": []
    },
    {
      "cell_type": "code",
      "source": [
        "thread1 = threading.Thread(target=print_squares, args=(numbers,))\n",
        "thread2 = threading.Thread(target=print_cubes, args=(numbers,))\n",
        "\n",
        "# Starting the threads\n",
        "thread1.start()\n",
        "thread2.start()\n",
        "\n",
        "# Waiting for both threads to complete\n",
        "thread1.join()\n",
        "thread2.join()\n",
        "\n",
        "print(\"Done!\")"
      ],
      "metadata": {
        "id": "t98Rhs-a4HSZ",
        "outputId": "49242033-b39e-4475-a586-3d0196c455ea",
        "colab": {
          "base_uri": "https://localhost:8080/"
        }
      },
      "execution_count": 8,
      "outputs": [
        {
          "output_type": "stream",
          "name": "stdout",
          "text": [
            "Squares:\n",
            "1\n",
            "4\n",
            "9\n",
            "16\n",
            "25\n",
            "Cubes:\n",
            "1\n",
            "8\n",
            "27\n",
            "64\n",
            "125\n",
            "Done!\n"
          ]
        }
      ]
    },
    {
      "cell_type": "markdown",
      "source": [
        "Q5. State Advantages and Disadvantages of Multithreading.\n",
        "\n",
        "**Advantages:**\n",
        "\n",
        " 1. **Concurrency:**  Allows multiple tasks to be performed simultaneously, making the program more responsive.\n",
        "\n",
        "2. **Efficient I/O Operations:**  Particularly useful in I/O-bound programs like file handling or network requests, where threads can perform operations while waiting for others to complete.\n",
        "\n",
        "3. **Improved Application Performance:** Although Python’s GIL restricts multithreading for CPU-bound tasks, it still provides performance benefits in I/O-bound tasks by utilizing system resources more efficiently.\n",
        "4. **Better User Experience:** In GUI applications, multithreading can prevent the user interface from freezing while waiting for background tasks to complete.\n",
        "\n"
      ],
      "metadata": {
        "id": "eRrwZyBI4G_z"
      }
    },
    {
      "cell_type": "markdown",
      "source": [
        "Disadvantages:\n",
        "\n",
        "1. **Global Interpreter Lock (GIL):** Python’s GIL prevents true parallel execution of threads, meaning multithreading is not effective for CPU-bound tasks.\n",
        "\n",
        "2. **Complex Debugging:** Multithreaded programs are harder to debug, maintain, and test due to synchronization issues like race conditions and deadlocks.\n",
        "\n",
        "3. **Increased Overhead:** Context switching between threads introduces overhead, which can negate the performance benefits if not handled properly.\n",
        "\n",
        "4. **Race Conditions:** Threads may attempt to modify shared resources simultaneously, leading to unpredictable behavior if proper synchronization mechanisms are not used."
      ],
      "metadata": {
        "id": "uCjKRqHB5JWp"
      }
    },
    {
      "cell_type": "markdown",
      "source": [
        "Q6. Explain deadlocks and race conditions.\n"
      ],
      "metadata": {
        "id": "eoSeT-KO6aep"
      }
    },
    {
      "cell_type": "markdown",
      "source": [
        "1. **Deadlocks:**\n",
        "\n",
        "A deadlock occurs when two or more threads are blocked, each waiting for a resource held by the other, and as a result, none of the threads can proceed. Deadlocks often occur when multiple threads try to acquire locks on resources in different orders."
      ],
      "metadata": {
        "id": "aeT6Aw8n6nTk"
      }
    },
    {
      "cell_type": "code",
      "source": [
        "import threading\n",
        "\n",
        "lock1 = threading.Lock()\n",
        "lock2 = threading.Lock()\n",
        "\n",
        "def thread1_func():\n",
        "    lock1.acquire()\n",
        "    print(\"Thread 1 acquired lock1\")\n",
        "    lock2.acquire()\n",
        "    print(\"Thread 1 acquired lock2\")\n",
        "    lock2.release()\n",
        "    lock1.release()\n",
        "\n",
        "def thread2_func():\n",
        "    lock2.acquire()\n",
        "    print(\"Thread 2 acquired lock2\")\n",
        "    lock1.acquire()\n",
        "    print(\"Thread 2 acquired lock1\")\n",
        "    lock1.release()\n",
        "    lock2.release()\n",
        "\n",
        "t1 = threading.Thread(target=thread1_func)\n",
        "t2 = threading.Thread(target=thread2_func)\n",
        "\n",
        "t1.start()\n",
        "t2.start()\n",
        "\n",
        "t1.join()\n",
        "t2.join()"
      ],
      "metadata": {
        "id": "WL-GjQAQ6wux"
      },
      "execution_count": null,
      "outputs": []
    },
    {
      "cell_type": "markdown",
      "source": [
        "2. **Race Conditions:**\n",
        "\n",
        "A race condition occurs when two or more threads modify shared data concurrently, leading to unpredictable results. This happens when the outcome of a program depends on the order in which the threads are executed."
      ],
      "metadata": {
        "id": "O9NE9ISa60kJ"
      }
    },
    {
      "cell_type": "code",
      "source": [
        "import threading\n",
        "\n",
        "counter = 0\n",
        "\n",
        "def increment():\n",
        "    global counter\n",
        "    for _ in range(100000):\n",
        "        counter += 1\n",
        "\n",
        "def decrement():\n",
        "    global counter\n",
        "    for _ in range(100000):\n",
        "        counter -= 1\n",
        "\n",
        "t1 = threading.Thread(target=increment)\n",
        "t2 = threading.Thread(target=decrement)\n",
        "\n",
        "t1.start()\n",
        "t2.start()\n",
        "\n",
        "t1.join()\n",
        "t2.join()\n",
        "\n",
        "print(\"Final counter value:\", counter)"
      ],
      "metadata": {
        "id": "sEOdHLfF7Eed"
      },
      "execution_count": null,
      "outputs": []
    }
  ]
}