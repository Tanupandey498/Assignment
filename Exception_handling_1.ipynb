{
  "nbformat": 4,
  "nbformat_minor": 0,
  "metadata": {
    "colab": {
      "provenance": [],
      "authorship_tag": "ABX9TyNHIQE+pHRIjXD8xbnqzzPl"
    },
    "kernelspec": {
      "name": "python3",
      "display_name": "Python 3"
    },
    "language_info": {
      "name": "python"
    }
  },
  "cells": [
    {
      "cell_type": "markdown",
      "source": [
        "Q1. What is an Exception in python? Write the difference between Exceptions and Syntax errors.\n",
        "\n",
        "**Ans:** An exception in Python is an event that occurs during the execution of a program, disrupting the normal flow of the program’s instructions. Exceptions usually happen when the program encounters unexpected conditions, like division by zero, file not found, or an invalid operation.\n",
        "\n",
        "Difference Between Exceptions and Syntax Errors:\n",
        "\n",
        "**Exception:**\n",
        "\n",
        "Occurs at runtime (when the code is being executed).\n",
        "Examples: ZeroDivisionError, FileNotFoundError, etc.\n",
        "The code is syntactically correct but leads to an error during execution.\n",
        "\n",
        "**Syntax Error:**\n",
        "\n",
        "Detected during the compilation phase, before the code runs.\n",
        "Examples: forgetting a colon (:) after if or for, mismatched parentheses, etc.\n",
        "The program cannot run if there is a syntax error."
      ],
      "metadata": {
        "id": "jm7G2Qpjzu6Z"
      }
    },
    {
      "cell_type": "code",
      "execution_count": null,
      "metadata": {
        "id": "H5TQsoUdzkMT"
      },
      "outputs": [],
      "source": [
        "# Syntax Error\n",
        "if True\n",
        "    print(\"This will raise a syntax error due to missing ':'\")\n",
        "\n",
        "# Exception\n",
        "x = 10 / 0"
      ]
    },
    {
      "cell_type": "markdown",
      "source": [
        "Q2. What happens when an exception is not handled? Explain with an example."
      ],
      "metadata": {
        "id": "Qr3UD4hi6_hY"
      }
    },
    {
      "cell_type": "markdown",
      "source": [
        "**Ans**:- When an exception is not handled, the program terminates abruptly, and an error message is displayed, indicating the type of exception and the point at which it occurred"
      ],
      "metadata": {
        "id": "4jD_WOXQ7A2R"
      }
    },
    {
      "cell_type": "code",
      "source": [
        "def divide(a, b):\n",
        "    return a / b\n",
        "\n",
        "print(divide(10, 0))"
      ],
      "metadata": {
        "id": "i-LlQfcy6-PX"
      },
      "execution_count": null,
      "outputs": []
    },
    {
      "cell_type": "markdown",
      "source": [
        "Q3. Which Python statements are used to catch and handle exceptions? Explain with an example.\n",
        "\n",
        "Ans: The try, except, else, and finally statements are used to catch and handle exceptions.\n",
        "\n",
        "**try block:** Contains the code that might raise an exception.\n",
        "\n",
        "**except block:** Handles the exception that occurs in the try block.\n",
        "\n",
        "**else block:** Executes code if no exception is raised.\n",
        "\n",
        "**finally block:** Executes code whether an exception occurred or not."
      ],
      "metadata": {
        "id": "YNzSmOtX7eCK"
      }
    },
    {
      "cell_type": "code",
      "source": [
        "try:\n",
        "    result = 10 / 0\n",
        "except ZeroDivisionError:\n",
        "    print(\"Cannot divide by zero!\")\n",
        "else:\n",
        "    print(\"Division successful!\")\n",
        "finally:\n",
        "    print(\"This block runs no matter what.\")"
      ],
      "metadata": {
        "colab": {
          "base_uri": "https://localhost:8080/"
        },
        "id": "yC9nc1Ca8PVM",
        "outputId": "08f8fb0a-06bc-42d3-b1a6-2ae20055aab2"
      },
      "execution_count": 3,
      "outputs": [
        {
          "output_type": "stream",
          "name": "stdout",
          "text": [
            "Cannot divide by zero!\n",
            "This block runs no matter what.\n"
          ]
        }
      ]
    },
    {
      "cell_type": "markdown",
      "source": [
        "Q4. Explain with an example:\n",
        "\n",
        "  a. try and else\n",
        "\n",
        "  b. finally\n",
        "\n",
        "  c. raise"
      ],
      "metadata": {
        "id": "EHGa8M-k9bcg"
      }
    },
    {
      "cell_type": "markdown",
      "source": [
        "a.**try and else**:\n",
        "\n",
        "The else block runs only if the try block does not raise an exception"
      ],
      "metadata": {
        "id": "ROQTuAbJ9dad"
      }
    },
    {
      "cell_type": "code",
      "source": [
        "try:\n",
        "    result = 10 / 2\n",
        "except ZeroDivisionError:\n",
        "    print(\"Error: Division by zero\")\n",
        "else:\n",
        "    print(\"Division successful:\", result)"
      ],
      "metadata": {
        "colab": {
          "base_uri": "https://localhost:8080/"
        },
        "id": "oul_DP6E8QkQ",
        "outputId": "42509bcc-233b-4fa8-fa0f-2b011d52230b"
      },
      "execution_count": 4,
      "outputs": [
        {
          "output_type": "stream",
          "name": "stdout",
          "text": [
            "Division successful: 5.0\n"
          ]
        }
      ]
    },
    {
      "cell_type": "markdown",
      "source": [
        "b. finally:\n",
        "\n",
        "The finally block always executes, regardless of whether an exception occurred."
      ],
      "metadata": {
        "id": "QHC9oTkv-grP"
      }
    },
    {
      "cell_type": "code",
      "source": [
        "try:\n",
        "    file = open(\"file.txt\", \"r\")\n",
        "except FileNotFoundError:\n",
        "    print(\"File not found\")\n",
        "finally:\n",
        "    print(\"Closing resources\")"
      ],
      "metadata": {
        "id": "iohP7WKk-epz"
      },
      "execution_count": null,
      "outputs": []
    },
    {
      "cell_type": "markdown",
      "source": [
        "c. raise:\n",
        "\n",
        "Used to raise a custom or predefined exception."
      ],
      "metadata": {
        "id": "VLpu-Yx7_EAe"
      }
    },
    {
      "cell_type": "code",
      "source": [
        "def check_positive(num):\n",
        "    if num < 0:\n",
        "        raise ValueError(\"Number must be positive\")\n",
        "    return num\n",
        "\n",
        "try:\n",
        "    print(check_positive(-5))\n",
        "except ValueError as e:\n",
        "    print(e)"
      ],
      "metadata": {
        "colab": {
          "base_uri": "https://localhost:8080/"
        },
        "id": "eVYrAskW_skk",
        "outputId": "779ba234-4eb1-4002-d2f6-0c418835dc78"
      },
      "execution_count": 5,
      "outputs": [
        {
          "output_type": "stream",
          "name": "stdout",
          "text": [
            "Number must be positive\n"
          ]
        }
      ]
    },
    {
      "cell_type": "markdown",
      "source": [
        "Q5. What are Custom Exceptions in Python? Why do we need Custom Exceptions? Explain with an example.\n",
        "\n",
        "Ans: Custom exceptions are user-defined exceptions that extend the base Exception class. They are useful when the built-in exceptions don’t provide sufficient clarity for certain error conditions specific to your application.\n",
        "\n",
        "We need custom exceptions to make error-handling more meaningful and specific. For example, in a banking application, we might want to raise a InsufficientFundsError instead of a generic Exception."
      ],
      "metadata": {
        "id": "VOkhrFK6ABPx"
      }
    },
    {
      "cell_type": "code",
      "source": [
        "class InsufficientFundsError(Exception):\n",
        "    def __init__(self, balance, amount):\n",
        "        super().__init__(f\"Insufficient funds: Balance is {balance}, but you tried to withdraw {amount}\")\n",
        "        self.balance = balance\n",
        "        self.amount = amount"
      ],
      "metadata": {
        "id": "WNJ-01KEAAsR"
      },
      "execution_count": 6,
      "outputs": []
    },
    {
      "cell_type": "code",
      "source": [
        "def withdraw(balance, amount):\n",
        "    if amount > balance:\n",
        "        raise InsufficientFundsError(balance, amount)\n",
        "    return balance - amount"
      ],
      "metadata": {
        "id": "Jy_W9dAv_1ty"
      },
      "execution_count": 7,
      "outputs": []
    },
    {
      "cell_type": "code",
      "source": [
        "try:\n",
        "    withdraw(100, 150)\n",
        "except InsufficientFundsError as e:\n",
        "    print(e)"
      ],
      "metadata": {
        "colab": {
          "base_uri": "https://localhost:8080/"
        },
        "id": "h32nVMc2AcVS",
        "outputId": "cc7ef38a-a5b6-42ea-9e35-743025c29c4b"
      },
      "execution_count": 8,
      "outputs": [
        {
          "output_type": "stream",
          "name": "stdout",
          "text": [
            "Insufficient funds: Balance is 100, but you tried to withdraw 150\n"
          ]
        }
      ]
    },
    {
      "cell_type": "markdown",
      "source": [
        "Q6. Create a Custom Exception Class. Use this Class to Handle an Exception."
      ],
      "metadata": {
        "id": "PwftNRkfAnWu"
      }
    },
    {
      "cell_type": "code",
      "source": [
        "class AgeTooYoungError(Exception):\n",
        "    def __init__(self, age):\n",
        "        super().__init__(f\"Age {age} is too young to proceed!\")\n",
        "        self.age = age"
      ],
      "metadata": {
        "id": "A_UA1EwnAey7"
      },
      "execution_count": 10,
      "outputs": []
    },
    {
      "cell_type": "code",
      "source": [
        "def check_age(age):\n",
        "    if age < 18:\n",
        "        raise AgeTooYoungError(age)\n",
        "    print(\"Access granted!\")"
      ],
      "metadata": {
        "id": "h6bACbRYAxjb"
      },
      "execution_count": 9,
      "outputs": []
    },
    {
      "cell_type": "code",
      "source": [
        "try:\n",
        "    check_age(16)\n",
        "except AgeTooYoungError as e:\n",
        "    print(e)"
      ],
      "metadata": {
        "colab": {
          "base_uri": "https://localhost:8080/"
        },
        "id": "VpFyCqsIA1Nk",
        "outputId": "5290c519-137c-421c-bf82-12252b9cc9fb"
      },
      "execution_count": 11,
      "outputs": [
        {
          "output_type": "stream",
          "name": "stdout",
          "text": [
            "Age 16 is too young to proceed!\n"
          ]
        }
      ]
    },
    {
      "cell_type": "code",
      "source": [],
      "metadata": {
        "id": "DsSzELH_A5Im"
      },
      "execution_count": null,
      "outputs": []
    }
  ]
}