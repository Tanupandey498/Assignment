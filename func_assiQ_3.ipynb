{
  "nbformat": 4,
  "nbformat_minor": 0,
  "metadata": {
    "colab": {
      "provenance": []
    },
    "kernelspec": {
      "name": "python3",
      "display_name": "Python 3"
    },
    "language_info": {
      "name": "python"
    }
  },
  "cells": [
    {
      "cell_type": "markdown",
      "source": [
        "Q1. Which keyword is used to create a function? Create a function to return a list of odd numbers in the range of 1 to 25.\n",
        "\n",
        "Ans- The keyword **def** is used to create a function in Python."
      ],
      "metadata": {
        "id": "l5r6iuOa8AZA"
      }
    },
    {
      "cell_type": "code",
      "source": [
        "def odd_num():\n",
        "    l=list(i for i in range(1, 26) if i % 2 != 0)\n",
        "    return l\n"
      ],
      "metadata": {
        "id": "H6GSuMUP7_k4"
      },
      "execution_count": null,
      "outputs": []
    },
    {
      "cell_type": "code",
      "source": [
        "odd_num()"
      ],
      "metadata": {
        "colab": {
          "base_uri": "https://localhost:8080/"
        },
        "id": "JVW6_oK8-hBk",
        "outputId": "95cdfc4a-76cf-42da-a2f8-f56458f95082"
      },
      "execution_count": null,
      "outputs": [
        {
          "output_type": "execute_result",
          "data": {
            "text/plain": [
              "[1, 3, 5, 7, 9, 11, 13, 15, 17, 19, 21, 23, 25]"
            ]
          },
          "metadata": {},
          "execution_count": 53
        }
      ]
    },
    {
      "cell_type": "markdown",
      "source": [
        "Q2. Why *args and **kwargs are used in some functions? Create a function each for *args and **kwargs to demonstrate their use.\n",
        "\n",
        "Ans - **args**: Used to pass a variable number of positional arguments to a function.\n",
        "**kwargs**: Used to pass a variable number of keyword arguments (name-value pairs)."
      ],
      "metadata": {
        "id": "Kb2MEZL7-zrP"
      }
    },
    {
      "cell_type": "code",
      "source": [
        "def my_function(*args):\n",
        "  print(\"The youngest child is \", args)\n",
        "\n",
        "my_function(\"Emil\", \"Tobias\", \"Linus\")"
      ],
      "metadata": {
        "colab": {
          "base_uri": "https://localhost:8080/"
        },
        "id": "mEeDesoo-nmj",
        "outputId": "5cd2a47a-68e3-4c4e-94ea-b0b2fe511f9d"
      },
      "execution_count": null,
      "outputs": [
        {
          "output_type": "stream",
          "name": "stdout",
          "text": [
            "The youngest child is  ('Emil', 'Tobias', 'Linus')\n"
          ]
        }
      ]
    },
    {
      "cell_type": "code",
      "source": [
        "def my_function(**kid):\n",
        "  print(\"His last name is \" + kid[\"lname\"])\n",
        "\n",
        "my_function(fname = \"Tobias\", lname = \"Refsnes\")"
      ],
      "metadata": {
        "colab": {
          "base_uri": "https://localhost:8080/"
        },
        "id": "JhHbB50bAyzq",
        "outputId": "e1b3464c-e550-47c5-b6fd-e94c5fcfd80e"
      },
      "execution_count": null,
      "outputs": [
        {
          "output_type": "stream",
          "name": "stdout",
          "text": [
            "His last name is Refsnes\n"
          ]
        }
      ]
    },
    {
      "cell_type": "markdown",
      "source": [
        "Q3. What is an iterator in Python? Name the method used to initialise the iterator object and the method used for iteration.\n",
        "\n",
        "Ans - An iterator in Python is an object that contains a countable number of values and can be iterated upon.\n",
        "\n",
        "The method used to initialise an iterator is iter(), and the method used for iteration is next()."
      ],
      "metadata": {
        "id": "Yb3BENpQFafe"
      }
    },
    {
      "cell_type": "code",
      "source": [
        "s = \"tanupandey\"\n",
        "iterator = iter(s)\n",
        "\n",
        "# Print the first 5 elements using the iterator\n",
        "for _ in range(5):\n",
        "    print(next(iterator))"
      ],
      "metadata": {
        "colab": {
          "base_uri": "https://localhost:8080/"
        },
        "id": "ilrN9TmABZLb",
        "outputId": "b18653fa-a4f5-432d-b1af-5bf3c554d8bc"
      },
      "execution_count": null,
      "outputs": [
        {
          "output_type": "stream",
          "name": "stdout",
          "text": [
            "t\n",
            "a\n",
            "n\n",
            "u\n",
            "p\n"
          ]
        }
      ]
    },
    {
      "cell_type": "markdown",
      "source": [
        "Q4. What is a generator function in Python? Why is the yield keyword used? Give an example of a generator function.\n",
        "\n",
        "Ans - A generator function is a function that returns an iterator (a generator) which yields one item at a time.\n",
        "\n",
        "The yield keyword is used to pause the function and return a value, allowing the function to resume where it left off."
      ],
      "metadata": {
        "id": "dmM6-9aOGeIZ"
      }
    },
    {
      "cell_type": "code",
      "source": [
        "def count(n):\n",
        "    for i in range(1, n + 1):\n",
        "        yield i\n"
      ],
      "metadata": {
        "id": "oft7j6l5GNaH"
      },
      "execution_count": null,
      "outputs": []
    },
    {
      "cell_type": "code",
      "source": [
        "count(10)"
      ],
      "metadata": {
        "colab": {
          "base_uri": "https://localhost:8080/"
        },
        "id": "ERRTSuMXHwpw",
        "outputId": "24e647e1-5a8a-4ac8-c417-1d33bde20e03"
      },
      "execution_count": null,
      "outputs": [
        {
          "output_type": "execute_result",
          "data": {
            "text/plain": [
              "<generator object count at 0x7bec8927b920>"
            ]
          },
          "metadata": {},
          "execution_count": 49
        }
      ]
    },
    {
      "cell_type": "code",
      "source": [
        "for number in count(10):\n",
        "    print(number)"
      ],
      "metadata": {
        "colab": {
          "base_uri": "https://localhost:8080/"
        },
        "id": "hwBdMg3ZMZSy",
        "outputId": "ef6b3ffd-f866-4766-f87c-5da3df6398f3"
      },
      "execution_count": null,
      "outputs": [
        {
          "output_type": "stream",
          "name": "stdout",
          "text": [
            "1\n",
            "2\n",
            "3\n",
            "4\n",
            "5\n",
            "6\n",
            "7\n",
            "8\n",
            "9\n",
            "10\n"
          ]
        }
      ]
    },
    {
      "cell_type": "markdown",
      "source": [
        "Q5. Create a generator function for prime numbers less than 1000. Use the next() method to print the first 20 prime numbers."
      ],
      "metadata": {
        "id": "oZ8MAdRHOrgS"
      }
    },
    {
      "cell_type": "code",
      "source": [
        "def is_prime(n):\n",
        "    if n < 2:\n",
        "        return False\n",
        "    for i in range(2, int(n**0.5) + 1):\n",
        "        if n % i == 0:\n",
        "            return False\n",
        "    return True\n",
        "\n",
        "def prime_generator(limit):\n",
        "    num = 2\n",
        "    while num < limit:\n",
        "        if is_prime(num):\n",
        "            yield num\n",
        "        num += 1\n",
        "\n",
        "# Using the generator to get the first 20 prime numbers\n",
        "prime_gen = prime_generator(1000)\n",
        "for _ in range(20):\n",
        "    print(next(prime_gen))\n"
      ],
      "metadata": {
        "id": "_TaoGZ5LOO4F"
      },
      "execution_count": null,
      "outputs": []
    },
    {
      "cell_type": "code",
      "source": [
        "def prime_generator(limit):\n",
        "    num = 2\n",
        "    while num < limit:\n",
        "        if is_prime(num):\n",
        "            yield num\n",
        "        num += 1"
      ],
      "metadata": {
        "id": "7dYPWKiBQNbf"
      },
      "execution_count": null,
      "outputs": []
    },
    {
      "cell_type": "markdown",
      "source": [
        "Q6. Write a Python program to print the first 10 Fibonacci numbers using a while loop."
      ],
      "metadata": {
        "id": "ogMjCMmsQHCW"
      }
    },
    {
      "cell_type": "code",
      "source": [
        "def fib():\n",
        "    a, b = 0, 1\n",
        "    count = 0\n",
        "    while count < 10:\n",
        "        print(a)\n",
        "        a, b = b, a + b\n",
        "        count += 1\n",
        "\n"
      ],
      "metadata": {
        "id": "P4W_CgnjTEWQ"
      },
      "execution_count": null,
      "outputs": []
    },
    {
      "cell_type": "code",
      "source": [
        "fib()"
      ],
      "metadata": {
        "colab": {
          "base_uri": "https://localhost:8080/"
        },
        "id": "YkcHYIkPTNyr",
        "outputId": "b65f4201-2c1b-4a1c-9701-e29e33f572ad"
      },
      "execution_count": null,
      "outputs": [
        {
          "output_type": "stream",
          "name": "stdout",
          "text": [
            "0\n",
            "1\n",
            "1\n",
            "2\n",
            "3\n",
            "5\n",
            "8\n",
            "13\n",
            "21\n",
            "34\n"
          ]
        }
      ]
    },
    {
      "cell_type": "markdown",
      "source": [
        "\n",
        "Q7. Write a List Comprehension to iterate through the given string: ‘pwskills’.\n",
        "\n"
      ],
      "metadata": {
        "id": "ff5Uta2AQIGJ"
      }
    },
    {
      "cell_type": "code",
      "source": [
        "s = 'pwskills'\n",
        "result = iter(char for char in s)\n",
        "print(result)"
      ],
      "metadata": {
        "colab": {
          "base_uri": "https://localhost:8080/"
        },
        "id": "0TnEwQqGTsYA",
        "outputId": "ce9ab282-59ef-416a-b366-f5be1e0ffe4f"
      },
      "execution_count": null,
      "outputs": [
        {
          "output_type": "stream",
          "name": "stdout",
          "text": [
            "<generator object <genexpr> at 0x79f2801005f0>\n"
          ]
        }
      ]
    },
    {
      "cell_type": "markdown",
      "source": [
        "Q8. Write a Python program to check whether a given number is a palindrome or not using a while loop."
      ],
      "metadata": {
        "id": "Hu628g4gKnEm"
      }
    },
    {
      "cell_type": "code",
      "source": [
        "def palindrome(n):\n",
        "    original = n\n",
        "    reversed_num = 0\n",
        "    while n > 0:\n",
        "        remainder = n % 10\n",
        "        reversed_num = reversed_num * 10 + remainder\n",
        "        n = n // 10\n",
        "    return original == reversed_num"
      ],
      "metadata": {
        "id": "lkDJJbtVUGFg"
      },
      "execution_count": null,
      "outputs": []
    },
    {
      "cell_type": "code",
      "source": [
        "num = int(input(\"Please give a number : \"))\n",
        "if palindrome(num):\n",
        "    print(f\"{num} is a palindrome\")\n",
        "else:\n",
        "    print(f\"{num} is not a palindrome\")"
      ],
      "metadata": {
        "colab": {
          "base_uri": "https://localhost:8080/"
        },
        "id": "hqHt7Yf1Kem7",
        "outputId": "e3471af4-38a0-4edb-cb9c-7172b7c81c7b"
      },
      "execution_count": null,
      "outputs": [
        {
          "output_type": "stream",
          "name": "stdout",
          "text": [
            "Please give a number : 54788745\n",
            "54788745 is a palindrome\n"
          ]
        }
      ]
    },
    {
      "cell_type": "markdown",
      "source": [
        "Q9. Write a code to print odd numbers from 1 to 100 using list comprehension."
      ],
      "metadata": {
        "id": "Z3Hz4dIzMa1N"
      }
    },
    {
      "cell_type": "code",
      "source": [
        "n = [i for i in range(1, 101)]\n",
        "odd_num= [num for num in n if num % 2 != 0]\n",
        "\n",
        "print(odd_num)"
      ],
      "metadata": {
        "colab": {
          "base_uri": "https://localhost:8080/"
        },
        "id": "TQFRoHG2MLDL",
        "outputId": "8601d340-3ef3-4b82-ffea-aadde7763fe7"
      },
      "execution_count": null,
      "outputs": [
        {
          "output_type": "stream",
          "name": "stdout",
          "text": [
            "[1, 3, 5, 7, 9, 11, 13, 15, 17, 19, 21, 23, 25, 27, 29, 31, 33, 35, 37, 39, 41, 43, 45, 47, 49, 51, 53, 55, 57, 59, 61, 63, 65, 67, 69, 71, 73, 75, 77, 79, 81, 83, 85, 87, 89, 91, 93, 95, 97, 99]\n"
          ]
        }
      ]
    },
    {
      "cell_type": "code",
      "source": [],
      "metadata": {
        "id": "7i9mlfSsNcAe"
      },
      "execution_count": null,
      "outputs": []
    }
  ]
}